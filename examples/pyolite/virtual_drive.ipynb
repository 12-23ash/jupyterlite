{
  "metadata": {
    "kernelspec": {
      "display_name": "Python (Pyodide)",
      "language": "python",
      "name": "python"
    },
    "language_info": {
      "codemirror_mode": {
        "name": "python",
        "version": 3
      },
      "file_extension": ".py",
      "mimetype": "text/x-python",
      "name": "python",
      "nbconvert_exporter": "python",
      "pygments_lexer": "ipython3",
      "version": "3.8"
    }
  },
  "nbformat_minor": 4,
  "nbformat": 4,
  "cells": [
    {
      "cell_type": "markdown",
      "source": "## Virtual file system support\n\nPyolite mounts a virtual `/drive` directory which allows access to files that are\nprovided by JupyterLite.",
      "metadata": {}
    },
    {
      "cell_type": "markdown",
      "source": "```{warning}\n**NOTE:** The virtual file system **does not work when in private mode under Firefox** and you'll get permission errors. It will also fail to work if you **hard refresh** the page.\n```",
      "metadata": {}
    },
    {
      "cell_type": "code",
      "source": "from pathlib import Path",
      "metadata": {
        "trusted": true
      },
      "execution_count": null,
      "outputs": []
    },
    {
      "cell_type": "markdown",
      "source": "The kernel will be start in a location in the virtual drive.",
      "metadata": {}
    },
    {
      "cell_type": "code",
      "source": "Path.cwd()",
      "metadata": {
        "trusted": true
      },
      "execution_count": null,
      "outputs": []
    },
    {
      "cell_type": "markdown",
      "source": "### Directories",
      "metadata": {}
    },
    {
      "cell_type": "code",
      "source": "Path(\"dir\").exists()",
      "metadata": {
        "trusted": true
      },
      "execution_count": null,
      "outputs": []
    },
    {
      "cell_type": "markdown",
      "source": "New paths should appear almost immediately in the file tree.",
      "metadata": {}
    },
    {
      "cell_type": "code",
      "source": "Path(\"dir\").mkdir(exist_ok=True)",
      "metadata": {
        "trusted": true
      },
      "execution_count": null,
      "outputs": []
    },
    {
      "cell_type": "markdown",
      "source": "### List directory content",
      "metadata": {}
    },
    {
      "cell_type": "code",
      "source": "sorted(Path.cwd().glob(\"*\"))",
      "metadata": {
        "trusted": true
      },
      "execution_count": null,
      "outputs": []
    },
    {
      "cell_type": "markdown",
      "source": "### Remove",
      "metadata": {}
    },
    {
      "cell_type": "markdown",
      "source": "Contents should disappear immediately from the _file browser_ when removed.",
      "metadata": {}
    },
    {
      "cell_type": "code",
      "source": "Path(\"dir\").exists() and Path.rmdir(Path(\"dir\"))",
      "metadata": {
        "trusted": true
      },
      "execution_count": null,
      "outputs": []
    },
    {
      "cell_type": "code",
      "source": "sorted(Path.cwd().glob(\"*\"))",
      "metadata": {
        "trusted": true
      },
      "execution_count": null,
      "outputs": []
    },
    {
      "cell_type": "markdown",
      "source": "### Reading/writing file",
      "metadata": {
        "tags": []
      }
    },
    {
      "cell_type": "code",
      "source": "Path(\"test.txt\").write_text(\"Hello! I write this from the kernel worker\")",
      "metadata": {
        "trusted": true
      },
      "execution_count": null,
      "outputs": []
    },
    {
      "cell_type": "code",
      "source": "Path(\"test.txt\").read_text()",
      "metadata": {
        "trusted": true
      },
      "execution_count": null,
      "outputs": []
    },
    {
      "cell_type": "code",
      "source": "from PIL import Image\n\nimg = Image.new(\"RGB\", (60, 30), color=(73, 109, 137))\nimg.save(\"pil_color.png\")",
      "metadata": {
        "trusted": true
      },
      "execution_count": null,
      "outputs": []
    },
    {
      "cell_type": "code",
      "source": "from IPython.display import Image, Markdown, display\n\nImage(data=Path(\"pil_color.png\"), format=\"png\")",
      "metadata": {
        "trusted": true
      },
      "execution_count": null,
      "outputs": []
    },
    {
      "cell_type": "markdown",
      "source": "### Rename\n\nFiles can be renamed.",
      "metadata": {}
    },
    {
      "cell_type": "code",
      "source": "Path(\"test.txt\").exists()",
      "metadata": {
        "trusted": true
      },
      "execution_count": null,
      "outputs": []
    },
    {
      "cell_type": "code",
      "source": "Path(\"test.txt\").rename(\"test_rename.txt\")",
      "metadata": {
        "trusted": true
      },
      "execution_count": null,
      "outputs": []
    },
    {
      "cell_type": "code",
      "source": "Path(\"test.txt\").exists()",
      "metadata": {
        "trusted": true
      },
      "execution_count": null,
      "outputs": []
    },
    {
      "cell_type": "code",
      "source": "sorted(Path.cwd().glob(\"*\"))",
      "metadata": {
        "trusted": true
      },
      "execution_count": null,
      "outputs": []
    },
    {
      "cell_type": "markdown",
      "source": "### Stat",
      "metadata": {}
    },
    {
      "cell_type": "code",
      "source": "for path in sorted(Path.cwd().glob(\"*\")):\n    display(Markdown(f\"- [{path}]({path.name})\" \"\\n\" f\"  - `{path.stat()}`\"))",
      "metadata": {
        "trusted": true
      },
      "execution_count": null,
      "outputs": []
    },
    {
      "cell_type": "markdown",
      "source": "### Complex IO\n\nSome libraries don't work as expected yet, such as\n[sqlite3](https://docs.python.org/3/library/sqlite3.html).",
      "metadata": {}
    },
    {
      "cell_type": "code",
      "source": "import sqlite3",
      "metadata": {
        "trusted": true
      },
      "execution_count": null,
      "outputs": []
    },
    {
      "cell_type": "code",
      "source": "def create_movies(path): \n    path.unlink(missing_ok=True)\n    con = sqlite3.connect(path)\n    cur = con.cursor()\n    with con:\n        cur.execute(\"CREATE TABLE movie(title, year, score)\")\n        cur.execute(\"\"\"\n            INSERT INTO movie VALUES\n                ('Monty Python and the Holy Grail', 1975, 8.2),\n                ('And Now for Something Completely Different', 1971, 7.5)\n            \"\"\")\n    con.close()",
      "metadata": {
        "trusted": true
      },
      "execution_count": null,
      "outputs": []
    },
    {
      "cell_type": "code",
      "source": "def query_movies(path):\n    con = sqlite3.connect(path)\n    cur = con.cursor()\n    res = cur.execute(\"SELECT * FROM movie\").fetchall()\n    con.close()\n    return res",
      "metadata": {
        "trusted": true
      },
      "execution_count": null,
      "outputs": []
    },
    {
      "cell_type": "code",
      "source": "try:\n    create_movies(db)\n    assert False, \"if we got here, something awesome happened!\"\nexcept sqlite3.OperationalError as err:\n    print(err)",
      "metadata": {
        "trusted": true
      },
      "execution_count": null,
      "outputs": []
    },
    {
      "cell_type": "markdown",
      "source": "For now, one can work in a separate folder:",
      "metadata": {}
    },
    {
      "cell_type": "code",
      "source": "tmp_db = Path(\"/tmp/tutorial.db\")\ncreate_movies(tmp_db)\ndisplay(*query_movies(tmp_db))",
      "metadata": {
        "trusted": true
      },
      "execution_count": null,
      "outputs": []
    },
    {
      "cell_type": "markdown",
      "source": "And copy the file back out, and _reading_ works fine.",
      "metadata": {}
    },
    {
      "cell_type": "code",
      "source": "import shutil\ndb.unlink(missing_ok=True)\nshutil.copy2(tmp_db, db)\ndisplay(*query_movies(db))",
      "metadata": {
        "trusted": true
      },
      "execution_count": null,
      "outputs": []
    },
    {
      "cell_type": "markdown",
      "source": "By extension, SQLite databases hosted from the server will also be _readable_ with `sqlite3`, such as the classic [northwind example](https://github.com/jpwhite3/northwind-SQLite3).",
      "metadata": {}
    },
    {
      "cell_type": "code",
      "source": "con = sqlite3.connect(\"data/northwind.sqlite3\")\ncur = con.cursor()\ndisplay(*cur.execute(\"SELECT LastName, FirstName FROM Employees\").fetchall())",
      "metadata": {
        "trusted": true
      },
      "execution_count": null,
      "outputs": []
    },
    {
      "cell_type": "markdown",
      "source": "Or even with `pandas`:",
      "metadata": {}
    },
    {
      "cell_type": "code",
      "source": "import pandas, IPython, base64",
      "metadata": {
        "trusted": true
      },
      "execution_count": null,
      "outputs": []
    },
    {
      "cell_type": "code",
      "source": "df = pandas.read_sql_query(\"SELECT * from Employees\", con)\ndf[\"Photo\"] = df[\"Photo\"].apply(\n    lambda raw: f'''<img src=\"data:image/png;base64,{base64.b64encode(raw).decode(\"utf-8\")}\"/>'''\n)\nIPython.display.HTML(df.T.to_html(escape=False))",
      "metadata": {
        "trusted": true
      },
      "execution_count": null,
      "outputs": []
    },
    {
      "cell_type": "markdown",
      "source": "```{note}\nFuture work could potentially expose reasonably-sized queries against _huge_ databases \nwith techniques like [`sql.js-httpvfs`](https://github.com/phiresky/sql.js-httpvfs): see [the original post](https://phiresky.github.io/blog/2021/hosting-sqlite-databases-on-github-pages).\n```",
      "metadata": {}
    }
  ]
}